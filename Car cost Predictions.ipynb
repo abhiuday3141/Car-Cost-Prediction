{
 "cells": [
  {
   "cell_type": "code",
   "execution_count": 1,
   "id": "325b434d",
   "metadata": {},
   "outputs": [],
   "source": [
    "import pandas as pd\n",
    "import numpy as np\n",
    "import seaborn as sns\n",
    "import matplotlib.pyplot as plt\n",
    "%matplotlib inline"
   ]
  },
  {
   "cell_type": "code",
   "execution_count": 2,
   "id": "8e8b6a61",
   "metadata": {},
   "outputs": [],
   "source": [
    "car_data=pd.read_csv('Car_Purchasing_Data.csv',encoding='ISO-8859-1')"
   ]
  },
  {
   "cell_type": "code",
   "execution_count": 3,
   "id": "15a1e70c",
   "metadata": {},
   "outputs": [
    {
     "data": {
      "text/html": [
       "<div>\n",
       "<style scoped>\n",
       "    .dataframe tbody tr th:only-of-type {\n",
       "        vertical-align: middle;\n",
       "    }\n",
       "\n",
       "    .dataframe tbody tr th {\n",
       "        vertical-align: top;\n",
       "    }\n",
       "\n",
       "    .dataframe thead th {\n",
       "        text-align: right;\n",
       "    }\n",
       "</style>\n",
       "<table border=\"1\" class=\"dataframe\">\n",
       "  <thead>\n",
       "    <tr style=\"text-align: right;\">\n",
       "      <th></th>\n",
       "      <th>Customer Name</th>\n",
       "      <th>Customer e-mail</th>\n",
       "      <th>Country</th>\n",
       "      <th>Gender</th>\n",
       "      <th>Age</th>\n",
       "      <th>Annual Salary</th>\n",
       "      <th>Credit Card Debt</th>\n",
       "      <th>Net Worth</th>\n",
       "      <th>Car Purchase Amount</th>\n",
       "    </tr>\n",
       "  </thead>\n",
       "  <tbody>\n",
       "    <tr>\n",
       "      <th>0</th>\n",
       "      <td>Martina Avila</td>\n",
       "      <td>cubilia.Curae.Phasellus@quisaccumsanconvallis.edu</td>\n",
       "      <td>Bulgaria</td>\n",
       "      <td>0</td>\n",
       "      <td>41.851720</td>\n",
       "      <td>62812.09301</td>\n",
       "      <td>11609.380910</td>\n",
       "      <td>238961.2505</td>\n",
       "      <td>35321.45877</td>\n",
       "    </tr>\n",
       "    <tr>\n",
       "      <th>1</th>\n",
       "      <td>Harlan Barnes</td>\n",
       "      <td>eu.dolor@diam.co.uk</td>\n",
       "      <td>Belize</td>\n",
       "      <td>0</td>\n",
       "      <td>40.870623</td>\n",
       "      <td>66646.89292</td>\n",
       "      <td>9572.957136</td>\n",
       "      <td>530973.9078</td>\n",
       "      <td>45115.52566</td>\n",
       "    </tr>\n",
       "    <tr>\n",
       "      <th>2</th>\n",
       "      <td>Naomi Rodriquez</td>\n",
       "      <td>vulputate.mauris.sagittis@ametconsectetueradip...</td>\n",
       "      <td>Algeria</td>\n",
       "      <td>1</td>\n",
       "      <td>43.152897</td>\n",
       "      <td>53798.55112</td>\n",
       "      <td>11160.355060</td>\n",
       "      <td>638467.1773</td>\n",
       "      <td>42925.70921</td>\n",
       "    </tr>\n",
       "    <tr>\n",
       "      <th>3</th>\n",
       "      <td>Jade Cunningham</td>\n",
       "      <td>malesuada@dignissim.com</td>\n",
       "      <td>Cook Islands</td>\n",
       "      <td>1</td>\n",
       "      <td>58.271369</td>\n",
       "      <td>79370.03798</td>\n",
       "      <td>14426.164850</td>\n",
       "      <td>548599.0524</td>\n",
       "      <td>67422.36313</td>\n",
       "    </tr>\n",
       "    <tr>\n",
       "      <th>4</th>\n",
       "      <td>Cedric Leach</td>\n",
       "      <td>felis.ullamcorper.viverra@egetmollislectus.net</td>\n",
       "      <td>Brazil</td>\n",
       "      <td>1</td>\n",
       "      <td>57.313749</td>\n",
       "      <td>59729.15130</td>\n",
       "      <td>5358.712177</td>\n",
       "      <td>560304.0671</td>\n",
       "      <td>55915.46248</td>\n",
       "    </tr>\n",
       "  </tbody>\n",
       "</table>\n",
       "</div>"
      ],
      "text/plain": [
       "     Customer Name                                    Customer e-mail  \\\n",
       "0    Martina Avila  cubilia.Curae.Phasellus@quisaccumsanconvallis.edu   \n",
       "1    Harlan Barnes                                eu.dolor@diam.co.uk   \n",
       "2  Naomi Rodriquez  vulputate.mauris.sagittis@ametconsectetueradip...   \n",
       "3  Jade Cunningham                            malesuada@dignissim.com   \n",
       "4     Cedric Leach     felis.ullamcorper.viverra@egetmollislectus.net   \n",
       "\n",
       "        Country  Gender        Age  Annual Salary  Credit Card Debt  \\\n",
       "0      Bulgaria       0  41.851720    62812.09301      11609.380910   \n",
       "1        Belize       0  40.870623    66646.89292       9572.957136   \n",
       "2       Algeria       1  43.152897    53798.55112      11160.355060   \n",
       "3  Cook Islands       1  58.271369    79370.03798      14426.164850   \n",
       "4        Brazil       1  57.313749    59729.15130       5358.712177   \n",
       "\n",
       "     Net Worth  Car Purchase Amount  \n",
       "0  238961.2505          35321.45877  \n",
       "1  530973.9078          45115.52566  \n",
       "2  638467.1773          42925.70921  \n",
       "3  548599.0524          67422.36313  \n",
       "4  560304.0671          55915.46248  "
      ]
     },
     "execution_count": 3,
     "metadata": {},
     "output_type": "execute_result"
    }
   ],
   "source": [
    "car_data.head()"
   ]
  },
  {
   "cell_type": "code",
   "execution_count": 4,
   "id": "8849336b",
   "metadata": {},
   "outputs": [
    {
     "name": "stdout",
     "output_type": "stream",
     "text": [
      "<class 'pandas.core.frame.DataFrame'>\n",
      "RangeIndex: 500 entries, 0 to 499\n",
      "Data columns (total 9 columns):\n",
      " #   Column               Non-Null Count  Dtype  \n",
      "---  ------               --------------  -----  \n",
      " 0   Customer Name        500 non-null    object \n",
      " 1   Customer e-mail      500 non-null    object \n",
      " 2   Country              500 non-null    object \n",
      " 3   Gender               500 non-null    int64  \n",
      " 4   Age                  500 non-null    float64\n",
      " 5   Annual Salary        500 non-null    float64\n",
      " 6   Credit Card Debt     500 non-null    float64\n",
      " 7   Net Worth            500 non-null    float64\n",
      " 8   Car Purchase Amount  500 non-null    float64\n",
      "dtypes: float64(5), int64(1), object(3)\n",
      "memory usage: 35.3+ KB\n"
     ]
    }
   ],
   "source": [
    "car_data.info()"
   ]
  },
  {
   "cell_type": "code",
   "execution_count": 5,
   "id": "c1bfdb76",
   "metadata": {},
   "outputs": [
    {
     "data": {
      "text/plain": [
       "<AxesSubplot:>"
      ]
     },
     "execution_count": 5,
     "metadata": {},
     "output_type": "execute_result"
    },
    {
     "data": {
      "image/png": "[encoded data removed]",
      "text/plain": [
       "<Figure size 432x288 with 2 Axes>"
      ]
     },
     "metadata": {
      "needs_background": "light"
     },
     "output_type": "display_data"
    }
   ],
   "source": [
    "sns.heatmap(car_data.corr(),annot=True)"
   ]
  },
  {
   "cell_type": "code",
   "execution_count": 6,
   "id": "402b8d8b",
   "metadata": {},
   "outputs": [
    {
     "data": {
      "text/plain": [
       "<seaborn.axisgrid.JointGrid at 0x1f05c6ffac0>"
      ]
     },
     "execution_count": 6,
     "metadata": {},
     "output_type": "execute_result"
    },
    {
     "data": {
      "text/plain": [
       "<Figure size 720x432 with 0 Axes>"
      ]
     },
     "metadata": {},
     "output_type": "display_data"
    },
    {
     "data": {
      "image/png": "[encoded data removed]",
      "text/plain": [
       "<Figure size 432x432 with 3 Axes>"
      ]
     },
     "metadata": {
      "needs_background": "light"
     },
     "output_type": "display_data"
    }
   ],
   "source": [
    "plt.figure(figsize=(10,6))\n",
    "sns.jointplot(x='Annual Salary',y='Car Purchase Amount',data=car_data)"
   ]
  },
  {
   "cell_type": "code",
   "execution_count": 7,
   "id": "f59196c7",
   "metadata": {},
   "outputs": [
    {
     "name": "stderr",
     "output_type": "stream",
     "text": [
      "C:\\Users\\Abhi\\anaconda3\\lib\\site-packages\\seaborn\\_decorators.py:36: FutureWarning: Pass the following variables as keyword args: x, y. From version 0.12, the only valid positional argument will be `data`, and passing other arguments without an explicit keyword will result in an error or misinterpretation.\n",
      "  warnings.warn(\n"
     ]
    },
    {
     "data": {
      "text/plain": [
       "<seaborn.axisgrid.JointGrid at 0x1f05c882a60>"
      ]
     },
     "execution_count": 7,
     "metadata": {},
     "output_type": "execute_result"
    },
    {
     "data": {
      "image/png": "[encoded data removed]",
      "text/plain": [
       "<Figure size 432x432 with 3 Axes>"
      ]
     },
     "metadata": {
      "needs_background": "light"
     },
     "output_type": "display_data"
    }
   ],
   "source": [
    "sns.jointplot(car_data['Age'],car_data['Car Purchase Amount'])"
   ]
  },
  {
   "cell_type": "code",
   "execution_count": 8,
   "id": "ca602683",
   "metadata": {},
   "outputs": [],
   "source": [
    "##name and email are irrelevant\n",
    "train_data=car_data.drop(['Customer Name','Customer e-mail'],axis=1)"
   ]
  },
  {
   "cell_type": "code",
   "execution_count": 9,
   "id": "fa02ceff",
   "metadata": {},
   "outputs": [],
   "source": [
    "from sklearn.preprocessing import LabelEncoder,MinMaxScaler\n",
    "lbe=LabelEncoder() "
   ]
  },
  {
   "cell_type": "code",
   "execution_count": 10,
   "id": "7485eabe",
   "metadata": {},
   "outputs": [],
   "source": [
    "train_data['Country'] = lbe.fit_transform(train_data['Country'])"
   ]
  },
  {
   "cell_type": "code",
   "execution_count": 11,
   "id": "b69f84ad",
   "metadata": {},
   "outputs": [],
   "source": [
    "X=train_data.drop(['Car Purchase Amount'],axis=1)\n"
   ]
  },
  {
   "cell_type": "code",
   "execution_count": 12,
   "id": "633231c2",
   "metadata": {},
   "outputs": [],
   "source": [
    "y=train_data['Car Purchase Amount']"
   ]
  },
  {
   "cell_type": "code",
   "execution_count": 13,
   "id": "10e729d7",
   "metadata": {},
   "outputs": [],
   "source": [
    "scaler=MinMaxScaler()\n",
    "X_scaled=scaler.fit_transform(X)"
   ]
  },
  {
   "cell_type": "code",
   "execution_count": 14,
   "id": "a82ee8a1",
   "metadata": {},
   "outputs": [],
   "source": [
    "y=y.values.reshape(-1,1)"
   ]
  },
  {
   "cell_type": "code",
   "execution_count": 15,
   "id": "42deae51",
   "metadata": {},
   "outputs": [],
   "source": [
    "y_scaled=scaler.fit_transform(y)"
   ]
  },
  {
   "cell_type": "code",
   "execution_count": 16,
   "id": "8301173e",
   "metadata": {},
   "outputs": [],
   "source": [
    "from sklearn.model_selection import train_test_split"
   ]
  },
  {
   "cell_type": "code",
   "execution_count": 17,
   "id": "60910f4a",
   "metadata": {},
   "outputs": [],
   "source": [
    "X_train, X_test, y_train, y_test = train_test_split( X_scaled, y_scaled, test_size=0.20)"
   ]
  },
  {
   "cell_type": "code",
   "execution_count": 18,
   "id": "7104efd1",
   "metadata": {},
   "outputs": [],
   "source": [
    "import tensorflow.keras\n",
    "from keras.models import Sequential\n",
    "from keras.layers import Dense"
   ]
  },
  {
   "cell_type": "code",
   "execution_count": 19,
   "id": "cf1214cc",
   "metadata": {},
   "outputs": [],
   "source": [
    "model=Sequential()\n",
    "model.add(Dense(30,input_dim=6,activation='relu'))\n",
    "model.add(Dense(25,activation='relu'))\n",
    "model.add((Dense(40,activation='relu')))\n",
    "model.add((Dense(1,activation='linear')))"
   ]
  },
  {
   "cell_type": "code",
   "execution_count": 20,
   "id": "5d70744c",
   "metadata": {},
   "outputs": [
    {
     "name": "stdout",
     "output_type": "stream",
     "text": [
      "Model: \"sequential\"\n",
      "_________________________________________________________________\n",
      "Layer (type)                 Output Shape              Param #   \n",
      "=================================================================\n",
      "dense (Dense)                (None, 30)                210       \n",
      "_________________________________________________________________\n",
      "dense_1 (Dense)              (None, 25)                775       \n",
      "_________________________________________________________________\n",
      "dense_2 (Dense)              (None, 40)                1040      \n",
      "_________________________________________________________________\n",
      "dense_3 (Dense)              (None, 1)                 41        \n",
      "=================================================================\n",
      "Total params: 2,066\n",
      "Trainable params: 2,066\n",
      "Non-trainable params: 0\n",
      "_________________________________________________________________\n"
     ]
    }
   ],
   "source": [
    "model.summary()"
   ]
  },
  {
   "cell_type": "code",
   "execution_count": 21,
   "id": "800d2590",
   "metadata": {},
   "outputs": [],
   "source": [
    "model.compile(optimizer='adam',loss='mean_squared_error')"
   ]
  },
  {
   "cell_type": "code",
   "execution_count": 22,
   "id": "9cc81296",
   "metadata": {},
   "outputs": [
    {
     "name": "stdout",
     "output_type": "stream",
     "text": [
      "Epoch 1/150\n",
      "13/13 [==============================] - 0s 10ms/step - loss: 0.3000 - val_loss: 0.1736\n",
      "Epoch 2/150\n",
      "13/13 [==============================] - 0s 3ms/step - loss: 0.1008 - val_loss: 0.0463\n",
      "Epoch 3/150\n",
      "13/13 [==============================] - 0s 2ms/step - loss: 0.0238 - val_loss: 0.0162\n",
      "Epoch 4/150\n",
      "13/13 [==============================] - 0s 2ms/step - loss: 0.0175 - val_loss: 0.0139\n",
      "Epoch 5/150\n",
      "13/13 [==============================] - 0s 2ms/step - loss: 0.0131 - val_loss: 0.0128\n",
      "Epoch 6/150\n",
      "13/13 [==============================] - 0s 2ms/step - loss: 0.0116 - val_loss: 0.0111\n",
      "Epoch 7/150\n",
      "13/13 [==============================] - 0s 2ms/step - loss: 0.0100 - val_loss: 0.0099\n",
      "Epoch 8/150\n",
      "13/13 [==============================] - 0s 2ms/step - loss: 0.0088 - val_loss: 0.0088\n",
      "Epoch 9/150\n",
      "13/13 [==============================] - 0s 2ms/step - loss: 0.0076 - val_loss: 0.0076\n",
      "Epoch 10/150\n",
      "13/13 [==============================] - 0s 2ms/step - loss: 0.0066 - val_loss: 0.0066\n",
      "Epoch 11/150\n",
      "13/13 [==============================] - 0s 2ms/step - loss: 0.0057 - val_loss: 0.0057\n",
      "Epoch 12/150\n",
      "13/13 [==============================] - 0s 2ms/step - loss: 0.0050 - val_loss: 0.0049\n",
      "Epoch 13/150\n",
      "13/13 [==============================] - 0s 2ms/step - loss: 0.0043 - val_loss: 0.0043\n",
      "Epoch 14/150\n",
      "13/13 [==============================] - 0s 2ms/step - loss: 0.0038 - val_loss: 0.0038\n",
      "Epoch 15/150\n",
      "13/13 [==============================] - 0s 2ms/step - loss: 0.0033 - val_loss: 0.0032\n",
      "Epoch 16/150\n",
      "13/13 [==============================] - 0s 2ms/step - loss: 0.0029 - val_loss: 0.0029\n",
      "Epoch 17/150\n",
      "13/13 [==============================] - 0s 2ms/step - loss: 0.0025 - val_loss: 0.0023\n",
      "Epoch 18/150\n",
      "13/13 [==============================] - 0s 2ms/step - loss: 0.0021 - val_loss: 0.0021\n",
      "Epoch 19/150\n",
      "13/13 [==============================] - 0s 2ms/step - loss: 0.0018 - val_loss: 0.0018\n",
      "Epoch 20/150\n",
      "13/13 [==============================] - 0s 2ms/step - loss: 0.0016 - val_loss: 0.0017\n",
      "Epoch 21/150\n",
      "13/13 [==============================] - 0s 2ms/step - loss: 0.0014 - val_loss: 0.0015\n",
      "Epoch 22/150\n",
      "13/13 [==============================] - 0s 2ms/step - loss: 0.0013 - val_loss: 0.0014\n",
      "Epoch 23/150\n",
      "13/13 [==============================] - 0s 3ms/step - loss: 0.0012 - val_loss: 0.0012\n",
      "Epoch 24/150\n",
      "13/13 [==============================] - 0s 2ms/step - loss: 0.0011 - val_loss: 0.0012\n",
      "Epoch 25/150\n",
      "13/13 [==============================] - 0s 2ms/step - loss: 0.0010 - val_loss: 0.0011\n",
      "Epoch 26/150\n",
      "13/13 [==============================] - 0s 2ms/step - loss: 9.2504e-04 - val_loss: 0.0010\n",
      "Epoch 27/150\n",
      "13/13 [==============================] - 0s 2ms/step - loss: 8.5140e-04 - val_loss: 9.4565e-04\n",
      "Epoch 28/150\n",
      "13/13 [==============================] - 0s 2ms/step - loss: 8.1067e-04 - val_loss: 8.5751e-04\n",
      "Epoch 29/150\n",
      "13/13 [==============================] - 0s 3ms/step - loss: 7.2227e-04 - val_loss: 8.2387e-04\n",
      "Epoch 30/150\n",
      "13/13 [==============================] - 0s 2ms/step - loss: 6.8343e-04 - val_loss: 7.4568e-04\n",
      "Epoch 31/150\n",
      "13/13 [==============================] - 0s 2ms/step - loss: 6.4061e-04 - val_loss: 7.1094e-04\n",
      "Epoch 32/150\n",
      "13/13 [==============================] - 0s 2ms/step - loss: 5.8421e-04 - val_loss: 6.8522e-04\n",
      "Epoch 33/150\n",
      "13/13 [==============================] - 0s 2ms/step - loss: 5.6144e-04 - val_loss: 6.8255e-04\n",
      "Epoch 34/150\n",
      "13/13 [==============================] - 0s 2ms/step - loss: 5.3751e-04 - val_loss: 7.1595e-04\n",
      "Epoch 35/150\n",
      "13/13 [==============================] - 0s 2ms/step - loss: 5.0350e-04 - val_loss: 5.8025e-04\n",
      "Epoch 36/150\n",
      "13/13 [==============================] - 0s 2ms/step - loss: 4.8379e-04 - val_loss: 5.0793e-04\n",
      "Epoch 37/150\n",
      "13/13 [==============================] - 0s 2ms/step - loss: 4.2671e-04 - val_loss: 4.7810e-04\n",
      "Epoch 38/150\n",
      "13/13 [==============================] - 0s 2ms/step - loss: 3.8134e-04 - val_loss: 4.5433e-04\n",
      "Epoch 39/150\n",
      "13/13 [==============================] - 0s 2ms/step - loss: 3.5387e-04 - val_loss: 4.9003e-04\n",
      "Epoch 40/150\n",
      "13/13 [==============================] - 0s 2ms/step - loss: 3.3480e-04 - val_loss: 3.7110e-04\n",
      "Epoch 41/150\n",
      "13/13 [==============================] - 0s 2ms/step - loss: 2.9862e-04 - val_loss: 3.6043e-04\n",
      "Epoch 42/150\n",
      "13/13 [==============================] - 0s 2ms/step - loss: 2.7947e-04 - val_loss: 3.2640e-04\n",
      "Epoch 43/150\n",
      "13/13 [==============================] - 0s 2ms/step - loss: 2.5035e-04 - val_loss: 3.2043e-04\n",
      "Epoch 44/150\n",
      "13/13 [==============================] - 0s 2ms/step - loss: 2.4535e-04 - val_loss: 3.1238e-04\n",
      "Epoch 45/150\n",
      "13/13 [==============================] - 0s 2ms/step - loss: 2.2499e-04 - val_loss: 2.7852e-04\n",
      "Epoch 46/150\n",
      "13/13 [==============================] - 0s 2ms/step - loss: 2.0459e-04 - val_loss: 2.8616e-04\n",
      "Epoch 47/150\n",
      "13/13 [==============================] - 0s 2ms/step - loss: 2.0268e-04 - val_loss: 2.4445e-04\n",
      "Epoch 48/150\n",
      "13/13 [==============================] - 0s 2ms/step - loss: 1.8677e-04 - val_loss: 2.6105e-04\n",
      "Epoch 49/150\n",
      "13/13 [==============================] - 0s 2ms/step - loss: 1.7778e-04 - val_loss: 2.4351e-04\n",
      "Epoch 50/150\n",
      "13/13 [==============================] - 0s 2ms/step - loss: 1.6385e-04 - val_loss: 2.0598e-04\n",
      "Epoch 51/150\n",
      "13/13 [==============================] - 0s 2ms/step - loss: 1.5032e-04 - val_loss: 2.1721e-04\n",
      "Epoch 52/150\n",
      "13/13 [==============================] - 0s 2ms/step - loss: 1.3981e-04 - val_loss: 1.9073e-04\n",
      "Epoch 53/150\n",
      "13/13 [==============================] - 0s 2ms/step - loss: 1.3824e-04 - val_loss: 1.9581e-04\n",
      "Epoch 54/150\n",
      "13/13 [==============================] - 0s 2ms/step - loss: 1.2958e-04 - val_loss: 1.7572e-04\n",
      "Epoch 55/150\n",
      "13/13 [==============================] - 0s 2ms/step - loss: 1.2709e-04 - val_loss: 1.8343e-04\n",
      "Epoch 56/150\n",
      "13/13 [==============================] - 0s 3ms/step - loss: 1.2041e-04 - val_loss: 1.6106e-04\n",
      "Epoch 57/150\n",
      "13/13 [==============================] - 0s 2ms/step - loss: 1.1206e-04 - val_loss: 1.5703e-04\n",
      "Epoch 58/150\n",
      "13/13 [==============================] - 0s 2ms/step - loss: 1.1053e-04 - val_loss: 1.6591e-04\n",
      "Epoch 59/150\n",
      "13/13 [==============================] - 0s 2ms/step - loss: 1.1127e-04 - val_loss: 1.5565e-04\n",
      "Epoch 60/150\n",
      "13/13 [==============================] - 0s 2ms/step - loss: 1.0657e-04 - val_loss: 1.5147e-04\n",
      "Epoch 61/150\n",
      "13/13 [==============================] - 0s 2ms/step - loss: 9.7050e-05 - val_loss: 1.3744e-04\n",
      "Epoch 62/150\n",
      "13/13 [==============================] - 0s 2ms/step - loss: 9.0621e-05 - val_loss: 1.5141e-04\n",
      "Epoch 63/150\n",
      "13/13 [==============================] - 0s 2ms/step - loss: 8.9821e-05 - val_loss: 1.3278e-04\n",
      "Epoch 64/150\n",
      "13/13 [==============================] - 0s 2ms/step - loss: 8.7770e-05 - val_loss: 1.3396e-04\n",
      "Epoch 65/150\n",
      "13/13 [==============================] - 0s 2ms/step - loss: 9.7039e-05 - val_loss: 1.5090e-04\n",
      "Epoch 66/150\n",
      "13/13 [==============================] - 0s 2ms/step - loss: 9.5497e-05 - val_loss: 1.2286e-04\n",
      "Epoch 67/150\n",
      "13/13 [==============================] - 0s 2ms/step - loss: 9.4273e-05 - val_loss: 1.4529e-04\n",
      "Epoch 68/150\n",
      "13/13 [==============================] - 0s 2ms/step - loss: 8.4852e-05 - val_loss: 1.2552e-04\n",
      "Epoch 69/150\n",
      "13/13 [==============================] - 0s 2ms/step - loss: 7.4894e-05 - val_loss: 1.1603e-04\n",
      "Epoch 70/150\n",
      "13/13 [==============================] - 0s 2ms/step - loss: 7.2307e-05 - val_loss: 1.1295e-04\n",
      "Epoch 71/150\n",
      "13/13 [==============================] - 0s 2ms/step - loss: 6.9456e-05 - val_loss: 1.2700e-04\n",
      "Epoch 72/150\n",
      "13/13 [==============================] - 0s 2ms/step - loss: 7.2709e-05 - val_loss: 1.0826e-04\n",
      "Epoch 73/150\n",
      "13/13 [==============================] - 0s 2ms/step - loss: 6.5190e-05 - val_loss: 1.1203e-04\n",
      "Epoch 74/150\n",
      "13/13 [==============================] - 0s 2ms/step - loss: 6.3799e-05 - val_loss: 1.0585e-04\n",
      "Epoch 75/150\n",
      "13/13 [==============================] - 0s 2ms/step - loss: 6.2999e-05 - val_loss: 1.0537e-04\n",
      "Epoch 76/150\n",
      "13/13 [==============================] - 0s 2ms/step - loss: 6.5413e-05 - val_loss: 1.0407e-04\n",
      "Epoch 77/150\n",
      "13/13 [==============================] - 0s 2ms/step - loss: 6.1198e-05 - val_loss: 1.0398e-04\n",
      "Epoch 78/150\n",
      "13/13 [==============================] - 0s 2ms/step - loss: 5.4897e-05 - val_loss: 1.0100e-04\n"
     ]
    },
    {
     "name": "stdout",
     "output_type": "stream",
     "text": [
      "Epoch 79/150\n",
      "13/13 [==============================] - 0s 2ms/step - loss: 5.7288e-05 - val_loss: 9.9101e-05\n",
      "Epoch 80/150\n",
      "13/13 [==============================] - 0s 2ms/step - loss: 5.1361e-05 - val_loss: 1.0895e-04\n",
      "Epoch 81/150\n",
      "13/13 [==============================] - 0s 2ms/step - loss: 5.3878e-05 - val_loss: 9.7313e-05\n",
      "Epoch 82/150\n",
      "13/13 [==============================] - 0s 2ms/step - loss: 4.8173e-05 - val_loss: 9.9814e-05\n",
      "Epoch 83/150\n",
      "13/13 [==============================] - 0s 2ms/step - loss: 4.8442e-05 - val_loss: 1.0035e-04\n",
      "Epoch 84/150\n",
      "13/13 [==============================] - 0s 2ms/step - loss: 4.9447e-05 - val_loss: 9.7840e-05\n",
      "Epoch 85/150\n",
      "13/13 [==============================] - 0s 2ms/step - loss: 5.1550e-05 - val_loss: 9.9302e-05\n",
      "Epoch 86/150\n",
      "13/13 [==============================] - 0s 2ms/step - loss: 5.2774e-05 - val_loss: 9.2821e-05\n",
      "Epoch 87/150\n",
      "13/13 [==============================] - 0s 2ms/step - loss: 4.5373e-05 - val_loss: 8.8303e-05\n",
      "Epoch 88/150\n",
      "13/13 [==============================] - 0s 2ms/step - loss: 4.3740e-05 - val_loss: 9.0276e-05\n",
      "Epoch 89/150\n",
      "13/13 [==============================] - 0s 2ms/step - loss: 4.2751e-05 - val_loss: 9.4600e-05\n",
      "Epoch 90/150\n",
      "13/13 [==============================] - 0s 2ms/step - loss: 4.1918e-05 - val_loss: 8.7877e-05\n",
      "Epoch 91/150\n",
      "13/13 [==============================] - 0s 2ms/step - loss: 4.2311e-05 - val_loss: 8.4858e-05\n",
      "Epoch 92/150\n",
      "13/13 [==============================] - ETA: 0s - loss: 2.4691e-0 - 0s 2ms/step - loss: 4.3990e-05 - val_loss: 1.0609e-04\n",
      "Epoch 93/150\n",
      "13/13 [==============================] - 0s 2ms/step - loss: 4.1346e-05 - val_loss: 8.1493e-05\n",
      "Epoch 94/150\n",
      "13/13 [==============================] - 0s 2ms/step - loss: 3.7907e-05 - val_loss: 8.7693e-05\n",
      "Epoch 95/150\n",
      "13/13 [==============================] - 0s 2ms/step - loss: 3.5774e-05 - val_loss: 7.7210e-05\n",
      "Epoch 96/150\n",
      "13/13 [==============================] - 0s 2ms/step - loss: 3.3002e-05 - val_loss: 8.0226e-05\n",
      "Epoch 97/150\n",
      "13/13 [==============================] - 0s 2ms/step - loss: 3.4962e-05 - val_loss: 7.7901e-05\n",
      "Epoch 98/150\n",
      "13/13 [==============================] - 0s 2ms/step - loss: 3.2030e-05 - val_loss: 8.1762e-05\n",
      "Epoch 99/150\n",
      "13/13 [==============================] - 0s 2ms/step - loss: 3.8806e-05 - val_loss: 7.6643e-05\n",
      "Epoch 100/150\n",
      "13/13 [==============================] - 0s 2ms/step - loss: 3.0927e-05 - val_loss: 7.6885e-05\n",
      "Epoch 101/150\n",
      "13/13 [==============================] - 0s 2ms/step - loss: 3.0327e-05 - val_loss: 7.4844e-05\n",
      "Epoch 102/150\n",
      "13/13 [==============================] - 0s 2ms/step - loss: 2.9022e-05 - val_loss: 7.2363e-05\n",
      "Epoch 103/150\n",
      "13/13 [==============================] - 0s 2ms/step - loss: 2.8932e-05 - val_loss: 7.3326e-05\n",
      "Epoch 104/150\n",
      "13/13 [==============================] - 0s 2ms/step - loss: 2.9399e-05 - val_loss: 7.3681e-05\n",
      "Epoch 105/150\n",
      "13/13 [==============================] - 0s 2ms/step - loss: 3.0233e-05 - val_loss: 7.5021e-05\n",
      "Epoch 106/150\n",
      "13/13 [==============================] - 0s 2ms/step - loss: 2.9267e-05 - val_loss: 7.2616e-05\n",
      "Epoch 107/150\n",
      "13/13 [==============================] - 0s 2ms/step - loss: 3.3011e-05 - val_loss: 7.1257e-05\n",
      "Epoch 108/150\n",
      "13/13 [==============================] - 0s 2ms/step - loss: 2.7857e-05 - val_loss: 6.9431e-05\n",
      "Epoch 109/150\n",
      "13/13 [==============================] - 0s 2ms/step - loss: 2.7512e-05 - val_loss: 7.1212e-05\n",
      "Epoch 110/150\n",
      "13/13 [==============================] - ETA: 0s - loss: 2.7002e-0 - 0s 2ms/step - loss: 3.0760e-05 - val_loss: 6.8251e-05\n",
      "Epoch 111/150\n",
      "13/13 [==============================] - 0s 2ms/step - loss: 2.9484e-05 - val_loss: 7.0887e-05\n",
      "Epoch 112/150\n",
      "13/13 [==============================] - 0s 2ms/step - loss: 2.6517e-05 - val_loss: 6.8831e-05\n",
      "Epoch 113/150\n",
      "13/13 [==============================] - 0s 2ms/step - loss: 2.5558e-05 - val_loss: 6.8064e-05\n",
      "Epoch 114/150\n",
      "13/13 [==============================] - 0s 2ms/step - loss: 2.5698e-05 - val_loss: 6.8314e-05\n",
      "Epoch 115/150\n",
      "13/13 [==============================] - 0s 2ms/step - loss: 2.7556e-05 - val_loss: 6.8823e-05\n",
      "Epoch 116/150\n",
      "13/13 [==============================] - 0s 2ms/step - loss: 2.5864e-05 - val_loss: 6.9027e-05\n",
      "Epoch 117/150\n",
      "13/13 [==============================] - 0s 2ms/step - loss: 2.8336e-05 - val_loss: 7.2911e-05\n",
      "Epoch 118/150\n",
      "13/13 [==============================] - 0s 2ms/step - loss: 2.3270e-05 - val_loss: 6.4787e-05\n",
      "Epoch 119/150\n",
      "13/13 [==============================] - 0s 2ms/step - loss: 2.2353e-05 - val_loss: 6.4875e-05\n",
      "Epoch 120/150\n",
      "13/13 [==============================] - 0s 2ms/step - loss: 2.2079e-05 - val_loss: 6.6185e-05\n",
      "Epoch 121/150\n",
      "13/13 [==============================] - 0s 2ms/step - loss: 2.1475e-05 - val_loss: 6.4140e-05\n",
      "Epoch 122/150\n",
      "13/13 [==============================] - 0s 2ms/step - loss: 2.1927e-05 - val_loss: 6.5699e-05\n",
      "Epoch 123/150\n",
      "13/13 [==============================] - 0s 2ms/step - loss: 2.2082e-05 - val_loss: 6.9286e-05\n",
      "Epoch 124/150\n",
      "13/13 [==============================] - 0s 2ms/step - loss: 2.2181e-05 - val_loss: 6.4772e-05\n",
      "Epoch 125/150\n",
      "13/13 [==============================] - 0s 2ms/step - loss: 2.0629e-05 - val_loss: 6.5469e-05\n",
      "Epoch 126/150\n",
      "13/13 [==============================] - 0s 2ms/step - loss: 1.9316e-05 - val_loss: 6.0775e-05\n",
      "Epoch 127/150\n",
      "13/13 [==============================] - 0s 2ms/step - loss: 1.9206e-05 - val_loss: 6.0574e-05\n",
      "Epoch 128/150\n",
      "13/13 [==============================] - 0s 2ms/step - loss: 1.9085e-05 - val_loss: 6.0401e-05\n",
      "Epoch 129/150\n",
      "13/13 [==============================] - 0s 2ms/step - loss: 1.9563e-05 - val_loss: 6.2083e-05\n",
      "Epoch 130/150\n",
      "13/13 [==============================] - 0s 2ms/step - loss: 2.1044e-05 - val_loss: 6.8408e-05\n",
      "Epoch 131/150\n",
      "13/13 [==============================] - 0s 2ms/step - loss: 1.9176e-05 - val_loss: 6.0812e-05\n",
      "Epoch 132/150\n",
      "13/13 [==============================] - 0s 2ms/step - loss: 1.7897e-05 - val_loss: 5.8862e-05\n",
      "Epoch 133/150\n",
      "13/13 [==============================] - 0s 2ms/step - loss: 1.7374e-05 - val_loss: 6.0139e-05\n",
      "Epoch 134/150\n",
      "13/13 [==============================] - 0s 2ms/step - loss: 1.7892e-05 - val_loss: 6.1631e-05\n",
      "Epoch 135/150\n",
      "13/13 [==============================] - 0s 2ms/step - loss: 1.7723e-05 - val_loss: 5.9144e-05\n",
      "Epoch 136/150\n",
      "13/13 [==============================] - 0s 2ms/step - loss: 1.8644e-05 - val_loss: 6.1776e-05\n",
      "Epoch 137/150\n",
      "13/13 [==============================] - 0s 2ms/step - loss: 2.1632e-05 - val_loss: 5.9290e-05\n",
      "Epoch 138/150\n",
      "13/13 [==============================] - 0s 2ms/step - loss: 2.0123e-05 - val_loss: 6.1415e-05\n",
      "Epoch 139/150\n",
      "13/13 [==============================] - 0s 2ms/step - loss: 2.0860e-05 - val_loss: 5.8367e-05\n",
      "Epoch 140/150\n",
      "13/13 [==============================] - 0s 2ms/step - loss: 2.2518e-05 - val_loss: 5.8268e-05\n",
      "Epoch 141/150\n",
      "13/13 [==============================] - 0s 3ms/step - loss: 2.0458e-05 - val_loss: 5.9238e-05\n",
      "Epoch 142/150\n",
      "13/13 [==============================] - 0s 3ms/step - loss: 1.8007e-05 - val_loss: 5.4319e-05\n",
      "Epoch 143/150\n",
      "13/13 [==============================] - 0s 2ms/step - loss: 1.8448e-05 - val_loss: 5.7413e-05\n",
      "Epoch 144/150\n",
      "13/13 [==============================] - 0s 3ms/step - loss: 2.1696e-05 - val_loss: 6.6338e-05\n",
      "Epoch 145/150\n",
      "13/13 [==============================] - 0s 2ms/step - loss: 1.6896e-05 - val_loss: 5.8120e-05\n",
      "Epoch 146/150\n",
      "13/13 [==============================] - 0s 2ms/step - loss: 1.7892e-05 - val_loss: 5.3834e-05\n",
      "Epoch 147/150\n",
      "13/13 [==============================] - 0s 2ms/step - loss: 1.5548e-05 - val_loss: 6.0251e-05\n",
      "Epoch 148/150\n",
      "13/13 [==============================] - 0s 2ms/step - loss: 1.5202e-05 - val_loss: 5.3574e-05\n",
      "Epoch 149/150\n",
      "13/13 [==============================] - 0s 2ms/step - loss: 1.5162e-05 - val_loss: 5.9300e-05\n",
      "Epoch 150/150\n",
      "13/13 [==============================] - 0s 2ms/step - loss: 1.6882e-05 - val_loss: 5.5658e-05\n"
     ]
    }
   ],
   "source": [
    "epoch_history=model.fit(X_train,y_train,epochs=150,batch_size=25,verbose=1,validation_split=0.2)"
   ]
  },
  {
   "cell_type": "code",
   "execution_count": 23,
   "id": "aaa262dc",
   "metadata": {},
   "outputs": [
    {
     "data": {
      "text/plain": [
       "<matplotlib.legend.Legend at 0x1f05d0c8550>"
      ]
     },
     "execution_count": 23,
     "metadata": {},
     "output_type": "execute_result"
    },
    {
     "data": {
      "image/png": "[encoded data removed]",
      "text/plain": [
       "<Figure size 432x288 with 1 Axes>"
      ]
     },
     "metadata": {
      "needs_background": "light"
     },
     "output_type": "display_data"
    }
   ],
   "source": [
    "plt.plot(epoch_history.history['loss'])\n",
    "plt.plot(epoch_history.history['val_loss'])\n",
    "\n",
    "plt.title('Model Loss Progression During Training/Validation')\n",
    "plt.ylabel('Training and Validation Losses')\n",
    "plt.xlabel('Epoch Number')\n",
    "plt.legend(['Training Loss', 'Validation Loss'])\n"
   ]
  },
  {
   "cell_type": "code",
   "execution_count": 24,
   "id": "cd08e5df",
   "metadata": {},
   "outputs": [],
   "source": [
    "pred=model.predict(X_test)"
   ]
  },
  {
   "cell_type": "code",
   "execution_count": 25,
   "id": "1f22ac95",
   "metadata": {},
   "outputs": [],
   "source": [
    "from sklearn.metrics import mean_absolute_error"
   ]
  },
  {
   "cell_type": "code",
   "execution_count": 26,
   "id": "7eea4a80",
   "metadata": {},
   "outputs": [
    {
     "name": "stdout",
     "output_type": "stream",
     "text": [
      "mean absolute error obtained is 0.003923682824236028\n"
     ]
    }
   ],
   "source": [
    "error=mean_absolute_error(pred,y_test)\n",
    "print(\"mean absolute error obtained is\",error)"
   ]
  },
  {
   "cell_type": "code",
   "execution_count": 27,
   "id": "04de580b",
   "metadata": {},
   "outputs": [],
   "source": [
    "def errorpercentage(y_test,pred):\n",
    "    mape=np.mean(np.abs(y_test-pred)/y_test*100)\n",
    "    return mape"
   ]
  },
  {
   "cell_type": "code",
   "execution_count": 32,
   "id": "4c1ee1db",
   "metadata": {},
   "outputs": [
    {
     "name": "stdout",
     "output_type": "stream",
     "text": [
      "This model is 99.14482892814216 % accurate\n"
     ]
    }
   ],
   "source": [
    "print(\"This model is\",100-errorpercentage(y_test,pred),\"% accurate\")"
   ]
  },
  {
   "cell_type": "code",
   "execution_count": 212,
   "id": "a957d9d7",
   "metadata": {},
   "outputs": [
    {
     "data": {
      "text/plain": [
       "(1, 1)"
      ]
     },
     "execution_count": 212,
     "metadata": {},
     "output_type": "execute_result"
    }
   ],
   "source": [
    "X_Testing = np.array([[1, 27, 50, 60000, 10985, 629312]])\n",
    "y_predict = model.predict(X_Testing)\n",
    "y_predict.shape"
   ]
  },
  {
   "cell_type": "code",
   "execution_count": 213,
   "id": "45f5098e",
   "metadata": {},
   "outputs": [
    {
     "name": "stdout",
     "output_type": "stream",
     "text": [
      "Expected amount of the car purchased is 236585.06\n"
     ]
    }
   ],
   "source": [
    "print(\"Expected amount of the car purchased is\",y_predict[0][0])"
   ]
  },
  {
   "cell_type": "code",
   "execution_count": 278,
   "id": "f42e6438",
   "metadata": {},
   "outputs": [],
   "source": [
    "from sklearn.linear_model import LinearRegression"
   ]
  },
  {
   "cell_type": "code",
   "execution_count": 281,
   "id": "286c6e3d",
   "metadata": {},
   "outputs": [],
   "source": [
    "lm=LinearRegression()"
   ]
  },
  {
   "cell_type": "code",
   "execution_count": 283,
   "id": "b5e24e31",
   "metadata": {},
   "outputs": [
    {
     "data": {
      "text/plain": [
       "LinearRegression()"
      ]
     },
     "execution_count": 283,
     "metadata": {},
     "output_type": "execute_result"
    }
   ],
   "source": [
    "lm.fit(X_train,y_train)"
   ]
  },
  {
   "cell_type": "code",
   "execution_count": 286,
   "id": "318cc8de",
   "metadata": {},
   "outputs": [],
   "source": [
    "linear_predictions=lm.predict(X_test)"
   ]
  },
  {
   "cell_type": "code",
   "execution_count": 291,
   "id": "659f5352",
   "metadata": {},
   "outputs": [
    {
     "data": {
      "text/plain": [
       "<matplotlib.collections.PathCollection at 0x1f067a473d0>"
      ]
     },
     "execution_count": 291,
     "metadata": {},
     "output_type": "execute_result"
    },
    {
     "data": {
      "image/png": "[encoded data removed]",
      "text/plain": [
       "<Figure size 432x288 with 1 Axes>"
      ]
     },
     "metadata": {
      "needs_background": "light"
     },
     "output_type": "display_data"
    }
   ],
   "source": [
    "plt.scatter(y_test,linear_predictions)"
   ]
  },
  {
   "cell_type": "code",
   "execution_count": 297,
   "id": "436114f8",
   "metadata": {},
   "outputs": [
    {
     "name": "stdout",
     "output_type": "stream",
     "text": [
      "mean absolute error obtained is 1.677951979600467e-05\n"
     ]
    }
   ],
   "source": [
    "error=mean_absolute_error(linear_predictions,y_test)\n",
    "print(\"mean absolute error obtained is\",error)"
   ]
  }
 ],
 "metadata": {
  "kernelspec": {
   "display_name": "Python 3",
   "language": "python",
   "name": "python3"
  },
  "language_info": {
   "codemirror_mode": {
    "name": "ipython",
    "version": 3
   },
   "file_extension": ".py",
   "mimetype": "text/x-python",
   "name": "python",
   "nbconvert_exporter": "python",
   "pygments_lexer": "ipython3",
   "version": "3.8.8"
  }
 },
 "nbformat": 4,
 "nbformat_minor": 5
}
