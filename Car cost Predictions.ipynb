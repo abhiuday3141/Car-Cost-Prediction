{
 "cells": [
  {
   "cell_type": "code",
   "execution_count": 1,
   "id": "325b434d",
   "metadata": {},
   "outputs": [],
   "source": [
    "import pandas as pd\n",
    "import numpy as np\n",
    "import seaborn as sns\n",
    "import matplotlib.pyplot as plt\n",
    "%matplotlib inline"
   ]
  },
  {
   "cell_type": "code",
   "execution_count": 2,
   "id": "8e8b6a61",
   "metadata": {},
   "outputs": [],
   "source": [
    "car_data=pd.read_csv('Car_Purchasing_Data.csv',encoding='ISO-8859-1')"
   ]
  },
  {
   "cell_type": "code",
   "execution_count": 3,
   "id": "15a1e70c",
   "metadata": {},
   "outputs": [
    {
     "data": {
      "text/html": [
       "<div>\n",
       "<style scoped>\n",
       "    .dataframe tbody tr th:only-of-type {\n",
       "        vertical-align: middle;\n",
       "    }\n",
       "\n",
       "    .dataframe tbody tr th {\n",
       "        vertical-align: top;\n",
       "    }\n",
       "\n",
       "    .dataframe thead th {\n",
       "        text-align: right;\n",
       "    }\n",
       "</style>\n",
       "<table border=\"1\" class=\"dataframe\">\n",
       "  <thead>\n",
       "    <tr style=\"text-align: right;\">\n",
       "      <th></th>\n",
       "      <th>Customer Name</th>\n",
       "      <th>Customer e-mail</th>\n",
       "      <th>Country</th>\n",
       "      <th>Gender</th>\n",
       "      <th>Age</th>\n",
       "      <th>Annual Salary</th>\n",
       "      <th>Credit Card Debt</th>\n",
       "      <th>Net Worth</th>\n",
       "      <th>Car Purchase Amount</th>\n",
       "    </tr>\n",
       "  </thead>\n",
       "  <tbody>\n",
       "    <tr>\n",
       "      <th>0</th>\n",
       "      <td>Martina Avila</td>\n",
       "      <td>cubilia.Curae.Phasellus@quisaccumsanconvallis.edu</td>\n",
       "      <td>Bulgaria</td>\n",
       "      <td>0</td>\n",
       "      <td>41.851720</td>\n",
       "      <td>62812.09301</td>\n",
       "      <td>11609.380910</td>\n",
       "      <td>238961.2505</td>\n",
       "      <td>35321.45877</td>\n",
       "    </tr>\n",
       "    <tr>\n",
       "      <th>1</th>\n",
       "      <td>Harlan Barnes</td>\n",
       "      <td>eu.dolor@diam.co.uk</td>\n",
       "      <td>Belize</td>\n",
       "      <td>0</td>\n",
       "      <td>40.870623</td>\n",
       "      <td>66646.89292</td>\n",
       "      <td>9572.957136</td>\n",
       "      <td>530973.9078</td>\n",
       "      <td>45115.52566</td>\n",
       "    </tr>\n",
       "    <tr>\n",
       "      <th>2</th>\n",
       "      <td>Naomi Rodriquez</td>\n",
       "      <td>vulputate.mauris.sagittis@ametconsectetueradip...</td>\n",
       "      <td>Algeria</td>\n",
       "      <td>1</td>\n",
       "      <td>43.152897</td>\n",
       "      <td>53798.55112</td>\n",
       "      <td>11160.355060</td>\n",
       "      <td>638467.1773</td>\n",
       "      <td>42925.70921</td>\n",
       "    </tr>\n",
       "    <tr>\n",
       "      <th>3</th>\n",
       "      <td>Jade Cunningham</td>\n",
       "      <td>malesuada@dignissim.com</td>\n",
       "      <td>Cook Islands</td>\n",
       "      <td>1</td>\n",
       "      <td>58.271369</td>\n",
       "      <td>79370.03798</td>\n",
       "      <td>14426.164850</td>\n",
       "      <td>548599.0524</td>\n",
       "      <td>67422.36313</td>\n",
       "    </tr>\n",
       "    <tr>\n",
       "      <th>4</th>\n",
       "      <td>Cedric Leach</td>\n",
       "      <td>felis.ullamcorper.viverra@egetmollislectus.net</td>\n",
       "      <td>Brazil</td>\n",
       "      <td>1</td>\n",
       "      <td>57.313749</td>\n",
       "      <td>59729.15130</td>\n",
       "      <td>5358.712177</td>\n",
       "      <td>560304.0671</td>\n",
       "      <td>55915.46248</td>\n",
       "    </tr>\n",
       "  </tbody>\n",
       "</table>\n",
       "</div>"
      ],
      "text/plain": [
       "     Customer Name                                    Customer e-mail  \\\n",
       "0    Martina Avila  cubilia.Curae.Phasellus@quisaccumsanconvallis.edu   \n",
       "1    Harlan Barnes                                eu.dolor@diam.co.uk   \n",
       "2  Naomi Rodriquez  vulputate.mauris.sagittis@ametconsectetueradip...   \n",
       "3  Jade Cunningham                            malesuada@dignissim.com   \n",
       "4     Cedric Leach     felis.ullamcorper.viverra@egetmollislectus.net   \n",
       "\n",
       "        Country  Gender        Age  Annual Salary  Credit Card Debt  \\\n",
       "0      Bulgaria       0  41.851720    62812.09301      11609.380910   \n",
       "1        Belize       0  40.870623    66646.89292       9572.957136   \n",
       "2       Algeria       1  43.152897    53798.55112      11160.355060   \n",
       "3  Cook Islands       1  58.271369    79370.03798      14426.164850   \n",
       "4        Brazil       1  57.313749    59729.15130       5358.712177   \n",
       "\n",
       "     Net Worth  Car Purchase Amount  \n",
       "0  238961.2505          35321.45877  \n",
       "1  530973.9078          45115.52566  \n",
       "2  638467.1773          42925.70921  \n",
       "3  548599.0524          67422.36313  \n",
       "4  560304.0671          55915.46248  "
      ]
     },
     "execution_count": 3,
     "metadata": {},
     "output_type": "execute_result"
    }
   ],
   "source": [
    "car_data.head()"
   ]
  },
  {
   "cell_type": "code",
   "execution_count": 4,
   "id": "8849336b",
   "metadata": {},
   "outputs": [
    {
     "name": "stdout",
     "output_type": "stream",
     "text": [
      "<class 'pandas.core.frame.DataFrame'>\n",
      "RangeIndex: 500 entries, 0 to 499\n",
      "Data columns (total 9 columns):\n",
      " #   Column               Non-Null Count  Dtype  \n",
      "---  ------               --------------  -----  \n",
      " 0   Customer Name        500 non-null    object \n",
      " 1   Customer e-mail      500 non-null    object \n",
      " 2   Country              500 non-null    object \n",
      " 3   Gender               500 non-null    int64  \n",
      " 4   Age                  500 non-null    float64\n",
      " 5   Annual Salary        500 non-null    float64\n",
      " 6   Credit Card Debt     500 non-null    float64\n",
      " 7   Net Worth            500 non-null    float64\n",
      " 8   Car Purchase Amount  500 non-null    float64\n",
      "dtypes: float64(5), int64(1), object(3)\n",
      "memory usage: 35.3+ KB\n"
     ]
    }
   ],
   "source": [
    "car_data.info()"
   ]
  },
  {
   "cell_type": "code",
   "execution_count": 5,
   "id": "c1bfdb76",
   "metadata": {},
   "outputs": [
    {
     "data": {
      "text/plain": [
       "<AxesSubplot:>"
      ]
     },
     "execution_count": 5,
     "metadata": {},
     "output_type": "execute_result"
    },
    {
     "data": {
      "image/png": "[encoded data removed]",
      "text/plain": [
       "<Figure size 432x288 with 2 Axes>"
      ]
     },
     "metadata": {
      "needs_background": "light"
     },
     "output_type": "display_data"
    }
   ],
   "source": [
    "sns.heatmap(car_data.corr(),annot=True)"
   ]
  },
  {
   "cell_type": "code",
   "execution_count": 6,
   "id": "402b8d8b",
   "metadata": {},
   "outputs": [
    {
     "data": {
      "text/plain": [
       "<seaborn.axisgrid.JointGrid at 0x235fdd89bb0>"
      ]
     },
     "execution_count": 6,
     "metadata": {},
     "output_type": "execute_result"
    },
    {
     "data": {
      "text/plain": [
       "<Figure size 720x432 with 0 Axes>"
      ]
     },
     "metadata": {},
     "output_type": "display_data"
    },
    {
     "data": {
      "image/png": "[encoded data removed]",
      "text/plain": [
       "<Figure size 432x432 with 3 Axes>"
      ]
     },
     "metadata": {
      "needs_background": "light"
     },
     "output_type": "display_data"
    }
   ],
   "source": [
    "plt.figure(figsize=(10,6))\n",
    "sns.jointplot(x='Annual Salary',y='Car Purchase Amount',data=car_data)"
   ]
  },
  {
   "cell_type": "code",
   "execution_count": 7,
   "id": "f59196c7",
   "metadata": {},
   "outputs": [
    {
     "name": "stderr",
     "output_type": "stream",
     "text": [
      "C:\\Users\\Abhi\\anaconda3\\lib\\site-packages\\seaborn\\_decorators.py:36: FutureWarning: Pass the following variables as keyword args: x, y. From version 0.12, the only valid positional argument will be `data`, and passing other arguments without an explicit keyword will result in an error or misinterpretation.\n",
      "  warnings.warn(\n"
     ]
    },
    {
     "data": {
      "text/plain": [
       "<seaborn.axisgrid.JointGrid at 0x235fdf519d0>"
      ]
     },
     "execution_count": 7,
     "metadata": {},
     "output_type": "execute_result"
    },
    {
     "data": {
      "image/png": "[encoded data removed]",
      "text/plain": [
       "<Figure size 432x432 with 3 Axes>"
      ]
     },
     "metadata": {
      "needs_background": "light"
     },
     "output_type": "display_data"
    }
   ],
   "source": [
    "sns.jointplot(car_data['Age'],car_data['Car Purchase Amount'])"
   ]
  },
  {
   "cell_type": "code",
   "execution_count": 8,
   "id": "ca602683",
   "metadata": {},
   "outputs": [],
   "source": [
    "##name and email are irrelevant\n",
    "train_data=car_data.drop(['Customer Name','Customer e-mail'],axis=1)"
   ]
  },
  {
   "cell_type": "code",
   "execution_count": 9,
   "id": "fa02ceff",
   "metadata": {},
   "outputs": [],
   "source": [
    "from sklearn.preprocessing import LabelEncoder,MinMaxScaler\n",
    "lbe=LabelEncoder() "
   ]
  },
  {
   "cell_type": "code",
   "execution_count": 10,
   "id": "7485eabe",
   "metadata": {},
   "outputs": [],
   "source": [
    "train_data['Country'] = lbe.fit_transform(train_data['Country'])"
   ]
  },
  {
   "cell_type": "code",
   "execution_count": 11,
   "id": "b69f84ad",
   "metadata": {},
   "outputs": [],
   "source": [
    "X=train_data.drop(['Car Purchase Amount'],axis=1)\n"
   ]
  },
  {
   "cell_type": "code",
   "execution_count": 12,
   "id": "633231c2",
   "metadata": {},
   "outputs": [],
   "source": [
    "y=train_data['Car Purchase Amount']"
   ]
  },
  {
   "cell_type": "code",
   "execution_count": 13,
   "id": "10e729d7",
   "metadata": {},
   "outputs": [],
   "source": [
    "scaler=MinMaxScaler()\n",
    "X_scaled=scaler.fit_transform(X)"
   ]
  },
  {
   "cell_type": "code",
   "execution_count": 14,
   "id": "a82ee8a1",
   "metadata": {},
   "outputs": [],
   "source": [
    "y=y.values.reshape(-1,1)"
   ]
  },
  {
   "cell_type": "code",
   "execution_count": 15,
   "id": "42deae51",
   "metadata": {},
   "outputs": [],
   "source": [
    "y_scaled=scaler.fit_transform(y)"
   ]
  },
  {
   "cell_type": "code",
   "execution_count": 16,
   "id": "8301173e",
   "metadata": {},
   "outputs": [],
   "source": [
    "from sklearn.model_selection import train_test_split"
   ]
  },
  {
   "cell_type": "code",
   "execution_count": 17,
   "id": "60910f4a",
   "metadata": {},
   "outputs": [],
   "source": [
    "X_train, X_test, y_train, y_test = train_test_split( X_scaled, y_scaled, test_size=0.20)"
   ]
  },
  {
   "cell_type": "code",
   "execution_count": 18,
   "id": "7104efd1",
   "metadata": {},
   "outputs": [],
   "source": [
    "import tensorflow.keras\n",
    "from keras.models import Sequential\n",
    "from keras.layers import Dense"
   ]
  },
  {
   "cell_type": "code",
   "execution_count": 19,
   "id": "cf1214cc",
   "metadata": {},
   "outputs": [],
   "source": [
    "model=Sequential()\n",
    "model.add(Dense(30,input_dim=6,activation='relu'))\n",
    "model.add(Dense(20,activation='relu'))\n",
    "model.add((Dense(40,activation='relu')))\n",
    "model.add((Dense(1,activation='linear')))"
   ]
  },
  {
   "cell_type": "code",
   "execution_count": 20,
   "id": "5d70744c",
   "metadata": {},
   "outputs": [
    {
     "name": "stdout",
     "output_type": "stream",
     "text": [
      "Model: \"sequential\"\n",
      "_________________________________________________________________\n",
      "Layer (type)                 Output Shape              Param #   \n",
      "=================================================================\n",
      "dense (Dense)                (None, 30)                210       \n",
      "_________________________________________________________________\n",
      "dense_1 (Dense)              (None, 20)                620       \n",
      "_________________________________________________________________\n",
      "dense_2 (Dense)              (None, 40)                840       \n",
      "_________________________________________________________________\n",
      "dense_3 (Dense)              (None, 1)                 41        \n",
      "=================================================================\n",
      "Total params: 1,711\n",
      "Trainable params: 1,711\n",
      "Non-trainable params: 0\n",
      "_________________________________________________________________\n"
     ]
    }
   ],
   "source": [
    "model.summary()"
   ]
  },
  {
   "cell_type": "code",
   "execution_count": 21,
   "id": "800d2590",
   "metadata": {},
   "outputs": [],
   "source": [
    "model.compile(optimizer='adam',loss='mean_squared_error')"
   ]
  },
  {
   "cell_type": "code",
   "execution_count": 22,
   "id": "9cc81296",
   "metadata": {},
   "outputs": [
    {
     "name": "stdout",
     "output_type": "stream",
     "text": [
      "Epoch 1/100\n",
      "13/13 [==============================] - 2s 40ms/step - loss: 0.0767 - val_loss: 0.0299\n",
      "Epoch 2/100\n",
      "13/13 [==============================] - 0s 3ms/step - loss: 0.0305 - val_loss: 0.0242\n",
      "Epoch 3/100\n",
      "13/13 [==============================] - 0s 3ms/step - loss: 0.0193 - val_loss: 0.0145\n",
      "Epoch 4/100\n",
      "13/13 [==============================] - 0s 3ms/step - loss: 0.0126 - val_loss: 0.0084\n",
      "Epoch 5/100\n",
      "13/13 [==============================] - 0s 3ms/step - loss: 0.0076 - val_loss: 0.0058\n",
      "Epoch 6/100\n",
      "13/13 [==============================] - 0s 3ms/step - loss: 0.0054 - val_loss: 0.0045\n",
      "Epoch 7/100\n",
      "13/13 [==============================] - 0s 3ms/step - loss: 0.0040 - val_loss: 0.0038\n",
      "Epoch 8/100\n",
      "13/13 [==============================] - 0s 2ms/step - loss: 0.0031 - val_loss: 0.0032\n",
      "Epoch 9/100\n",
      "13/13 [==============================] - 0s 3ms/step - loss: 0.0025 - val_loss: 0.0027\n",
      "Epoch 10/100\n",
      "13/13 [==============================] - 0s 2ms/step - loss: 0.0022 - val_loss: 0.0024\n",
      "Epoch 11/100\n",
      "13/13 [==============================] - 0s 2ms/step - loss: 0.0018 - val_loss: 0.0020\n",
      "Epoch 12/100\n",
      "13/13 [==============================] - 0s 3ms/step - loss: 0.0016 - val_loss: 0.0017\n",
      "Epoch 13/100\n",
      "13/13 [==============================] - 0s 2ms/step - loss: 0.0014 - val_loss: 0.0015\n",
      "Epoch 14/100\n",
      "13/13 [==============================] - 0s 2ms/step - loss: 0.0013 - val_loss: 0.0013\n",
      "Epoch 15/100\n",
      "13/13 [==============================] - 0s 2ms/step - loss: 0.0010 - val_loss: 0.0011\n",
      "Epoch 16/100\n",
      "13/13 [==============================] - 0s 2ms/step - loss: 8.9141e-04 - val_loss: 9.5815e-04\n",
      "Epoch 17/100\n",
      "13/13 [==============================] - 0s 2ms/step - loss: 7.7299e-04 - val_loss: 7.8652e-04\n",
      "Epoch 18/100\n",
      "13/13 [==============================] - 0s 2ms/step - loss: 6.5850e-04 - val_loss: 7.0073e-04\n",
      "Epoch 19/100\n",
      "13/13 [==============================] - 0s 3ms/step - loss: 6.6122e-04 - val_loss: 5.8491e-04\n",
      "Epoch 20/100\n",
      "13/13 [==============================] - 0s 2ms/step - loss: 5.4370e-04 - val_loss: 5.5823e-04\n",
      "Epoch 21/100\n",
      "13/13 [==============================] - 0s 2ms/step - loss: 4.8737e-04 - val_loss: 4.8003e-04\n",
      "Epoch 22/100\n",
      "13/13 [==============================] - 0s 3ms/step - loss: 3.8957e-04 - val_loss: 4.0345e-04\n",
      "Epoch 23/100\n",
      "13/13 [==============================] - 0s 3ms/step - loss: 3.4529e-04 - val_loss: 4.4031e-04\n",
      "Epoch 24/100\n",
      "13/13 [==============================] - 0s 2ms/step - loss: 3.3008e-04 - val_loss: 3.1797e-04\n",
      "Epoch 25/100\n",
      "13/13 [==============================] - 0s 2ms/step - loss: 2.9403e-04 - val_loss: 2.8947e-04\n",
      "Epoch 26/100\n",
      "13/13 [==============================] - 0s 2ms/step - loss: 2.7911e-04 - val_loss: 3.9500e-04\n",
      "Epoch 27/100\n",
      "13/13 [==============================] - 0s 2ms/step - loss: 2.7356e-04 - val_loss: 2.6698e-04\n",
      "Epoch 28/100\n",
      "13/13 [==============================] - 0s 2ms/step - loss: 2.3082e-04 - val_loss: 2.1840e-04\n",
      "Epoch 29/100\n",
      "13/13 [==============================] - 0s 2ms/step - loss: 2.2802e-04 - val_loss: 2.2334e-04\n",
      "Epoch 30/100\n",
      "13/13 [==============================] - 0s 2ms/step - loss: 2.0829e-04 - val_loss: 1.9327e-04\n",
      "Epoch 31/100\n",
      "13/13 [==============================] - 0s 2ms/step - loss: 1.8858e-04 - val_loss: 1.8476e-04\n",
      "Epoch 32/100\n",
      "13/13 [==============================] - 0s 2ms/step - loss: 1.8993e-04 - val_loss: 1.6858e-04\n",
      "Epoch 33/100\n",
      "13/13 [==============================] - 0s 2ms/step - loss: 2.0078e-04 - val_loss: 2.4717e-04\n",
      "Epoch 34/100\n",
      "13/13 [==============================] - 0s 2ms/step - loss: 1.9002e-04 - val_loss: 1.4785e-04\n",
      "Epoch 35/100\n",
      "13/13 [==============================] - 0s 2ms/step - loss: 1.7454e-04 - val_loss: 1.3042e-04\n",
      "Epoch 36/100\n",
      "13/13 [==============================] - 0s 3ms/step - loss: 1.7379e-04 - val_loss: 1.2444e-04\n",
      "Epoch 37/100\n",
      "13/13 [==============================] - 0s 2ms/step - loss: 1.3944e-04 - val_loss: 1.1464e-04\n",
      "Epoch 38/100\n",
      "13/13 [==============================] - 0s 2ms/step - loss: 1.4713e-04 - val_loss: 1.0884e-04\n",
      "Epoch 39/100\n",
      "13/13 [==============================] - 0s 2ms/step - loss: 1.2860e-04 - val_loss: 1.2192e-04\n",
      "Epoch 40/100\n",
      "13/13 [==============================] - 0s 3ms/step - loss: 1.2381e-04 - val_loss: 1.0285e-04\n",
      "Epoch 41/100\n",
      "13/13 [==============================] - 0s 3ms/step - loss: 1.2235e-04 - val_loss: 1.0745e-04\n",
      "Epoch 42/100\n",
      "13/13 [==============================] - 0s 2ms/step - loss: 1.2433e-04 - val_loss: 8.8391e-05\n",
      "Epoch 43/100\n",
      "13/13 [==============================] - 0s 2ms/step - loss: 1.1093e-04 - val_loss: 8.3506e-05\n",
      "Epoch 44/100\n",
      "13/13 [==============================] - 0s 2ms/step - loss: 1.1466e-04 - val_loss: 1.4573e-04\n",
      "Epoch 45/100\n",
      "13/13 [==============================] - 0s 2ms/step - loss: 1.2135e-04 - val_loss: 7.7464e-05\n",
      "Epoch 46/100\n",
      "13/13 [==============================] - ETA: 0s - loss: 5.0129e-0 - 0s 2ms/step - loss: 1.0006e-04 - val_loss: 7.8164e-05\n",
      "Epoch 47/100\n",
      "13/13 [==============================] - 0s 3ms/step - loss: 1.0106e-04 - val_loss: 1.1801e-04\n",
      "Epoch 48/100\n",
      "13/13 [==============================] - 0s 3ms/step - loss: 1.0994e-04 - val_loss: 6.8647e-05\n",
      "Epoch 49/100\n",
      "13/13 [==============================] - 0s 3ms/step - loss: 9.9611e-05 - val_loss: 6.8027e-05\n",
      "Epoch 50/100\n",
      "13/13 [==============================] - 0s 3ms/step - loss: 9.3126e-05 - val_loss: 1.2237e-04\n",
      "Epoch 51/100\n",
      "13/13 [==============================] - 0s 3ms/step - loss: 9.5697e-05 - val_loss: 6.2588e-05\n",
      "Epoch 52/100\n",
      "13/13 [==============================] - 0s 3ms/step - loss: 8.8425e-05 - val_loss: 6.2730e-05\n",
      "Epoch 53/100\n",
      "13/13 [==============================] - 0s 3ms/step - loss: 8.8010e-05 - val_loss: 1.0621e-04\n",
      "Epoch 54/100\n",
      "13/13 [==============================] - 0s 3ms/step - loss: 1.1042e-04 - val_loss: 8.8495e-05\n",
      "Epoch 55/100\n",
      "13/13 [==============================] - 0s 2ms/step - loss: 8.6516e-05 - val_loss: 5.4924e-05\n",
      "Epoch 56/100\n",
      "13/13 [==============================] - 0s 2ms/step - loss: 7.2492e-05 - val_loss: 7.7023e-05\n",
      "Epoch 57/100\n",
      "13/13 [==============================] - 0s 3ms/step - loss: 7.7801e-05 - val_loss: 5.7222e-05\n",
      "Epoch 58/100\n",
      "13/13 [==============================] - 0s 3ms/step - loss: 7.2255e-05 - val_loss: 4.9988e-05\n",
      "Epoch 59/100\n",
      "13/13 [==============================] - 0s 3ms/step - loss: 7.0985e-05 - val_loss: 9.1706e-05\n",
      "Epoch 60/100\n",
      "13/13 [==============================] - 0s 3ms/step - loss: 7.3050e-05 - val_loss: 4.7445e-05\n",
      "Epoch 61/100\n",
      "13/13 [==============================] - 0s 3ms/step - loss: 6.7476e-05 - val_loss: 6.7983e-05\n",
      "Epoch 62/100\n",
      "13/13 [==============================] - 0s 3ms/step - loss: 6.6951e-05 - val_loss: 6.1461e-05\n",
      "Epoch 63/100\n",
      "13/13 [==============================] - 0s 3ms/step - loss: 6.6030e-05 - val_loss: 5.6711e-05\n",
      "Epoch 64/100\n",
      "13/13 [==============================] - 0s 3ms/step - loss: 7.8960e-05 - val_loss: 5.7624e-05\n",
      "Epoch 65/100\n",
      "13/13 [==============================] - 0s 3ms/step - loss: 7.2442e-05 - val_loss: 8.4944e-05\n",
      "Epoch 66/100\n",
      "13/13 [==============================] - 0s 2ms/step - loss: 7.1947e-05 - val_loss: 7.9567e-05\n",
      "Epoch 67/100\n",
      "13/13 [==============================] - 0s 3ms/step - loss: 6.0762e-05 - val_loss: 4.5130e-05\n",
      "Epoch 68/100\n",
      "13/13 [==============================] - 0s 3ms/step - loss: 5.5258e-05 - val_loss: 5.6944e-05\n",
      "Epoch 69/100\n",
      "13/13 [==============================] - 0s 2ms/step - loss: 5.6807e-05 - val_loss: 8.3408e-05\n",
      "Epoch 70/100\n",
      "13/13 [==============================] - 0s 3ms/step - loss: 5.6119e-05 - val_loss: 4.6606e-05\n",
      "Epoch 71/100\n",
      "13/13 [==============================] - 0s 3ms/step - loss: 5.9713e-05 - val_loss: 4.3704e-05\n",
      "Epoch 72/100\n",
      "13/13 [==============================] - 0s 3ms/step - loss: 5.6522e-05 - val_loss: 4.2436e-05\n",
      "Epoch 73/100\n",
      "13/13 [==============================] - 0s 3ms/step - loss: 6.5779e-05 - val_loss: 8.3554e-05\n",
      "Epoch 74/100\n",
      "13/13 [==============================] - 0s 3ms/step - loss: 5.4065e-05 - val_loss: 4.7987e-05\n",
      "Epoch 75/100\n",
      "13/13 [==============================] - 0s 3ms/step - loss: 5.2438e-05 - val_loss: 4.6411e-05\n",
      "Epoch 76/100\n",
      "13/13 [==============================] - 0s 3ms/step - loss: 4.7646e-05 - val_loss: 4.7568e-05\n",
      "Epoch 77/100\n",
      "13/13 [==============================] - 0s 3ms/step - loss: 4.8812e-05 - val_loss: 4.2703e-05\n"
     ]
    },
    {
     "name": "stdout",
     "output_type": "stream",
     "text": [
      "Epoch 78/100\n",
      "13/13 [==============================] - 0s 3ms/step - loss: 4.9380e-05 - val_loss: 4.2456e-05\n",
      "Epoch 79/100\n",
      "13/13 [==============================] - 0s 3ms/step - loss: 4.7811e-05 - val_loss: 4.6004e-05\n",
      "Epoch 80/100\n",
      "13/13 [==============================] - 0s 3ms/step - loss: 6.1281e-05 - val_loss: 5.1321e-05\n",
      "Epoch 81/100\n",
      "13/13 [==============================] - 0s 3ms/step - loss: 4.7912e-05 - val_loss: 7.8138e-05\n",
      "Epoch 82/100\n",
      "13/13 [==============================] - 0s 3ms/step - loss: 5.3156e-05 - val_loss: 9.0085e-05\n",
      "Epoch 83/100\n",
      "13/13 [==============================] - 0s 2ms/step - loss: 5.1105e-05 - val_loss: 4.6379e-05\n",
      "Epoch 84/100\n",
      "13/13 [==============================] - 0s 3ms/step - loss: 4.4279e-05 - val_loss: 3.9979e-05\n",
      "Epoch 85/100\n",
      "13/13 [==============================] - ETA: 0s - loss: 2.3769e-0 - 0s 3ms/step - loss: 4.2498e-05 - val_loss: 4.9856e-05\n",
      "Epoch 86/100\n",
      "13/13 [==============================] - 0s 3ms/step - loss: 4.3623e-05 - val_loss: 3.8550e-05\n",
      "Epoch 87/100\n",
      "13/13 [==============================] - 0s 2ms/step - loss: 4.1012e-05 - val_loss: 4.1162e-05\n",
      "Epoch 88/100\n",
      "13/13 [==============================] - 0s 2ms/step - loss: 4.2243e-05 - val_loss: 3.6067e-05\n",
      "Epoch 89/100\n",
      "13/13 [==============================] - 0s 3ms/step - loss: 4.6197e-05 - val_loss: 5.3846e-05\n",
      "Epoch 90/100\n",
      "13/13 [==============================] - 0s 2ms/step - loss: 4.0537e-05 - val_loss: 3.8757e-05\n",
      "Epoch 91/100\n",
      "13/13 [==============================] - 0s 2ms/step - loss: 4.2306e-05 - val_loss: 4.6580e-05\n",
      "Epoch 92/100\n",
      "13/13 [==============================] - 0s 2ms/step - loss: 3.9388e-05 - val_loss: 4.2248e-05\n",
      "Epoch 93/100\n",
      "13/13 [==============================] - 0s 2ms/step - loss: 3.8360e-05 - val_loss: 3.5463e-05\n",
      "Epoch 94/100\n",
      "13/13 [==============================] - 0s 3ms/step - loss: 4.8177e-05 - val_loss: 3.5246e-05\n",
      "Epoch 95/100\n",
      "13/13 [==============================] - 0s 2ms/step - loss: 4.2158e-05 - val_loss: 5.5306e-05\n",
      "Epoch 96/100\n",
      "13/13 [==============================] - 0s 2ms/step - loss: 3.8490e-05 - val_loss: 5.3421e-05\n",
      "Epoch 97/100\n",
      "13/13 [==============================] - ETA: 0s - loss: 2.2725e-0 - 0s 2ms/step - loss: 3.8465e-05 - val_loss: 5.4565e-05\n",
      "Epoch 98/100\n",
      "13/13 [==============================] - 0s 3ms/step - loss: 3.9565e-05 - val_loss: 8.4249e-05\n",
      "Epoch 99/100\n",
      "13/13 [==============================] - 0s 2ms/step - loss: 3.6972e-05 - val_loss: 3.4071e-05\n",
      "Epoch 100/100\n",
      "13/13 [==============================] - 0s 2ms/step - loss: 3.8758e-05 - val_loss: 3.5271e-05\n"
     ]
    }
   ],
   "source": [
    "epoch_history=model.fit(X_train,y_train,epochs=100,batch_size=25,verbose=1,validation_split=0.2)"
   ]
  },
  {
   "cell_type": "code",
   "execution_count": 23,
   "id": "aaa262dc",
   "metadata": {},
   "outputs": [
    {
     "data": {
      "text/plain": [
       "<matplotlib.legend.Legend at 0x235fde5a850>"
      ]
     },
     "execution_count": 23,
     "metadata": {},
     "output_type": "execute_result"
    },
    {
     "data": {
      "image/png": "[encoded data removed]",
      "text/plain": [
       "<Figure size 432x288 with 1 Axes>"
      ]
     },
     "metadata": {
      "needs_background": "light"
     },
     "output_type": "display_data"
    }
   ],
   "source": [
    "plt.plot(epoch_history.history['loss'])\n",
    "plt.plot(epoch_history.history['val_loss'])\n",
    "\n",
    "plt.title('Model Loss Progression During Training/Validation')\n",
    "plt.ylabel('Training and Validation Losses')\n",
    "plt.xlabel('Epoch Number')\n",
    "plt.legend(['Training Loss', 'Validation Loss'])\n"
   ]
  },
  {
   "cell_type": "code",
   "execution_count": 24,
   "id": "cd08e5df",
   "metadata": {},
   "outputs": [],
   "source": [
    "pred=model.predict(X_test)"
   ]
  },
  {
   "cell_type": "code",
   "execution_count": 25,
   "id": "1f22ac95",
   "metadata": {},
   "outputs": [],
   "source": [
    "from sklearn.metrics import mean_absolute_error"
   ]
  },
  {
   "cell_type": "code",
   "execution_count": 26,
   "id": "7eea4a80",
   "metadata": {},
   "outputs": [
    {
     "name": "stdout",
     "output_type": "stream",
     "text": [
      "Error in the model is  0.005514785814135859\n"
     ]
    }
   ],
   "source": [
    "error=mean_absolute_error(pred,y_test)\n",
    "print(\"Error in the model is \",error)"
   ]
  },
  {
   "cell_type": "code",
   "execution_count": 27,
   "id": "04de580b",
   "metadata": {},
   "outputs": [],
   "source": [
    "def errorpercentage(y_test,pred):\n",
    "    mape=np.mean(np.abs(y_test-pred)/y_test*100)\n",
    "    return mape"
   ]
  },
  {
   "cell_type": "code",
   "execution_count": 31,
   "id": "4c1ee1db",
   "metadata": {},
   "outputs": [
    {
     "name": "stdout",
     "output_type": "stream",
     "text": [
      "This model is 98.79572432308589 % accurate\n"
     ]
    }
   ],
   "source": [
    "print(\"This model is\",100-errorpercentage(y_test,pred),\"% accurate\")"
   ]
  },
  {
   "cell_type": "code",
   "execution_count": 29,
   "id": "a957d9d7",
   "metadata": {},
   "outputs": [
    {
     "data": {
      "text/plain": [
       "(1, 1)"
      ]
     },
     "execution_count": 29,
     "metadata": {},
     "output_type": "execute_result"
    }
   ],
   "source": [
    "X_Testing = np.array([[1, 27, 50, 50000, 10985, 629312]])\n",
    "y_predict = model.predict(X_Testing)\n",
    "y_predict.shape"
   ]
  },
  {
   "cell_type": "code",
   "execution_count": 30,
   "id": "e6349c78",
   "metadata": {},
   "outputs": [
    {
     "name": "stdout",
     "output_type": "stream",
     "text": [
      "Expected amount of the car purchased is 280576.97\n"
     ]
    }
   ],
   "source": [
    "print(\"Expected amount of the car purchased is\",y_predict[0][0])"
   ]
  }
 ],
 "metadata": {
  "kernelspec": {
   "display_name": "Python 3",
   "language": "python",
   "name": "python3"
  },
  "language_info": {
   "codemirror_mode": {
    "name": "ipython",
    "version": 3
   },
   "file_extension": ".py",
   "mimetype": "text/x-python",
   "name": "python",
   "nbconvert_exporter": "python",
   "pygments_lexer": "ipython3",
   "version": "3.8.8"
  }
 },
 "nbformat": 4,
 "nbformat_minor": 5
}
