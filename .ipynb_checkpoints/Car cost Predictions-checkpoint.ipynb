{
 "cells": [
  {
   "cell_type": "code",
   "execution_count": null,
   "id": "325b434d",
   "metadata": {},
   "outputs": [],
   "source": [
    "import pandas as pd\n",
    "import numpy as np\n",
    "import seaborn as sns\n",
    "import matplotlib.pyplot as plt\n",
    "%matplotlib inline"
   ]
  },
  {
   "cell_type": "code",
   "execution_count": null,
   "id": "8e8b6a61",
   "metadata": {},
   "outputs": [],
   "source": [
    "car_data=pd.read_csv('Car_Purchasing_Data.csv',encoding='ISO-8859-1')"
   ]
  },
  {
   "cell_type": "code",
   "execution_count": null,
   "id": "15a1e70c",
   "metadata": {},
   "outputs": [],
   "source": [
    "car_data.head()"
   ]
  },
  {
   "cell_type": "code",
   "execution_count": null,
   "id": "8849336b",
   "metadata": {},
   "outputs": [],
   "source": [
    "car_data.info()"
   ]
  },
  {
   "cell_type": "code",
   "execution_count": null,
   "id": "c1bfdb76",
   "metadata": {},
   "outputs": [],
   "source": [
    "sns.heatmap(car_data.corr(),annot=True)"
   ]
  },
  {
   "cell_type": "code",
   "execution_count": null,
   "id": "402b8d8b",
   "metadata": {},
   "outputs": [],
   "source": [
    "plt.figure(figsize=(10,6))\n",
    "sns.jointplot(x='Annual Salary',y='Car Purchase Amount',data=car_data)"
   ]
  },
  {
   "cell_type": "code",
   "execution_count": null,
   "id": "f59196c7",
   "metadata": {},
   "outputs": [],
   "source": [
    "sns.jointplot(car_data['Age'],car_data['Car Purchase Amount'])"
   ]
  },
  {
   "cell_type": "code",
   "execution_count": null,
   "id": "ca602683",
   "metadata": {},
   "outputs": [],
   "source": [
    "##name and email are irrelevant\n",
    "train_data=car_data.drop(['Customer Name','Customer e-mail'],axis=1)"
   ]
  },
  {
   "cell_type": "code",
   "execution_count": null,
   "id": "fa02ceff",
   "metadata": {},
   "outputs": [],
   "source": [
    "from sklearn.preprocessing import LabelEncoder,MinMaxScaler\n",
    "lbe=LabelEncoder() "
   ]
  },
  {
   "cell_type": "code",
   "execution_count": null,
   "id": "7485eabe",
   "metadata": {},
   "outputs": [],
   "source": [
    "train_data['Country'] = lbe.fit_transform(train_data['Country'])"
   ]
  },
  {
   "cell_type": "code",
   "execution_count": null,
   "id": "b69f84ad",
   "metadata": {},
   "outputs": [],
   "source": [
    "X=train_data.drop(['Car Purchase Amount'],axis=1)\n"
   ]
  },
  {
   "cell_type": "code",
   "execution_count": null,
   "id": "633231c2",
   "metadata": {},
   "outputs": [],
   "source": [
    "y=train_data['Car Purchase Amount']"
   ]
  },
  {
   "cell_type": "code",
   "execution_count": null,
   "id": "10e729d7",
   "metadata": {},
   "outputs": [],
   "source": [
    "scaler=MinMaxScaler()\n",
    "X_scaled=scaler.fit_transform(X)"
   ]
  },
  {
   "cell_type": "code",
   "execution_count": null,
   "id": "a82ee8a1",
   "metadata": {},
   "outputs": [],
   "source": [
    "y=y.values.reshape(-1,1)"
   ]
  },
  {
   "cell_type": "code",
   "execution_count": null,
   "id": "42deae51",
   "metadata": {},
   "outputs": [],
   "source": [
    "y_scaled=scaler.fit_transform(y)"
   ]
  },
  {
   "cell_type": "code",
   "execution_count": null,
   "id": "8301173e",
   "metadata": {},
   "outputs": [],
   "source": [
    "from sklearn.model_selection import train_test_split"
   ]
  },
  {
   "cell_type": "code",
   "execution_count": null,
   "id": "60910f4a",
   "metadata": {},
   "outputs": [],
   "source": [
    "X_train, X_test, y_train, y_test = train_test_split( X_scaled, y_scaled, test_size=0.20)"
   ]
  },
  {
   "cell_type": "code",
   "execution_count": null,
   "id": "7104efd1",
   "metadata": {},
   "outputs": [],
   "source": [
    "import tensorflow.keras\n",
    "from keras.models import Sequential\n",
    "from keras.layers import Dense"
   ]
  },
  {
   "cell_type": "code",
   "execution_count": null,
   "id": "cf1214cc",
   "metadata": {},
   "outputs": [],
   "source": [
    "model=Sequential()\n",
    "model.add(Dense(30,input_dim=6,activation='relu'))\n",
    "model.add(Dense(20,activation='relu'))\n",
    "model.add((Dense(40,activation='relu')))\n",
    "model.add((Dense(1,activation='linear')))"
   ]
  },
  {
   "cell_type": "code",
   "execution_count": null,
   "id": "5d70744c",
   "metadata": {},
   "outputs": [],
   "source": [
    "model.summary()"
   ]
  },
  {
   "cell_type": "code",
   "execution_count": null,
   "id": "800d2590",
   "metadata": {},
   "outputs": [],
   "source": [
    "model.compile(optimizer='adam',loss='mean_squared_error')"
   ]
  },
  {
   "cell_type": "code",
   "execution_count": null,
   "id": "9cc81296",
   "metadata": {},
   "outputs": [],
   "source": [
    "epoch_history=model.fit(X_train,y_train,epochs=100,batch_size=25,verbose=1,validation_split=0.2)"
   ]
  },
  {
   "cell_type": "code",
   "execution_count": null,
   "id": "aaa262dc",
   "metadata": {},
   "outputs": [],
   "source": [
    "plt.plot(epoch_history.history['loss'])\n",
    "plt.plot(epoch_history.history['val_loss'])\n",
    "\n",
    "plt.title('Model Loss Progression During Training/Validation')\n",
    "plt.ylabel('Training and Validation Losses')\n",
    "plt.xlabel('Epoch Number')\n",
    "plt.legend(['Training Loss', 'Validation Loss'])\n"
   ]
  },
  {
   "cell_type": "code",
   "execution_count": null,
   "id": "cd08e5df",
   "metadata": {},
   "outputs": [],
   "source": [
    "pred=model.predict(X_test)"
   ]
  },
  {
   "cell_type": "code",
   "execution_count": null,
   "id": "1f22ac95",
   "metadata": {},
   "outputs": [],
   "source": [
    "from sklearn.metrics import mean_absolute_error"
   ]
  },
  {
   "cell_type": "code",
   "execution_count": null,
   "id": "7eea4a80",
   "metadata": {},
   "outputs": [],
   "source": [
    "error=mean_absolute_error(pred,y_test)\n",
    "print(\"Error in the model is \",error)"
   ]
  },
  {
   "cell_type": "code",
   "execution_count": null,
   "id": "04de580b",
   "metadata": {},
   "outputs": [],
   "source": [
    "def errorpercentage(y_test,pred):\n",
    "    mape=np.mean(np.abs(y_test-pred)/y_test*100)\n",
    "    return mape"
   ]
  },
  {
   "cell_type": "code",
   "execution_count": null,
   "id": "4c1ee1db",
   "metadata": {},
   "outputs": [],
   "source": [
    "print(\"This model is\",100-errorpercentage(y_test,pred),\"% accurate\")"
   ]
  },
  {
   "cell_type": "code",
   "execution_count": null,
   "id": "a957d9d7",
   "metadata": {},
   "outputs": [],
   "source": [
    "X_Testing = np.array([[1, 27, 50, 50000, 10985, 629312]])\n",
    "y_predict = model.predict(X_Testing)\n",
    "y_predict.shape"
   ]
  },
  {
   "cell_type": "code",
   "execution_count": null,
   "id": "e6349c78",
   "metadata": {},
   "outputs": [],
   "source": [
    "print(\"Expected amount of the car purchased is\",y_predict[0][0])"
   ]
  }
 ],
 "metadata": {
  "kernelspec": {
   "display_name": "Python 3",
   "language": "python",
   "name": "python3"
  },
  "language_info": {
   "codemirror_mode": {
    "name": "ipython",
    "version": 3
   },
   "file_extension": ".py",
   "mimetype": "text/x-python",
   "name": "python",
   "nbconvert_exporter": "python",
   "pygments_lexer": "ipython3",
   "version": "3.8.8"
  }
 },
 "nbformat": 4,
 "nbformat_minor": 5
}
